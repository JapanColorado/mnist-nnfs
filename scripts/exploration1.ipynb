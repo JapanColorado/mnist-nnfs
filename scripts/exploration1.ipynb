{
 "cells": [
  {
   "cell_type": "code",
   "execution_count": 1,
   "metadata": {},
   "outputs": [],
   "source": [
    "# Import libraries\n",
    "import random\n",
    "import time\n",
    "import numpy as np\n",
    "\n",
    "# Helper/miscellaneous functions\n",
    "from src.mnist_loader import load_data_wrapper\n",
    "\n",
    "def sigmoid(z):\n",
    "    '''The sigmoid function.'''\n",
    "    return 1.0/(1.0+np.exp(-z))\n",
    "\n",
    "def dsigmoid(z):\n",
    "    '''The derivative of the sigmoid function.'''\n",
    "    return sigmoid(z)*(1-sigmoid(z))"
   ]
  },
  {
   "cell_type": "code",
   "execution_count": null,
   "metadata": {},
   "outputs": [],
   "source": [
    "class Network(object): # Inherits from object\n",
    "    \n",
    "    def __init__(self, sizes):\n",
    "        self.num_layers = len(sizes)\n",
    "        self.sizes = sizes\n",
    "        # The biases are added to every layer but the first.\n",
    "        self.biases = [np.random.randn(x, 1) for x in sizes[1:]] \n",
    "        # Weights connect the layers. The first layer's size is the width, the second layer's is the height.\n",
    "        self.weights = [np.random.randn(x,y) for y,x in zip(sizes[:-1], sizes[1:])]\n",
    "\n",
    "    def feedforward(self, a):\n",
    "        '''Return the output of the network if ``a`` is input.'''\n",
    "        for b, w in zip(self.biases, self.weights):\n",
    "            a = sigmoid(np.dot(w, a)+b)\n",
    "        return a\n",
    "    \n",
    "    def SGD(self, training_data, epochs, mini_batch_size, eta,\n",
    "            test_data=None):\n",
    "        \"\"\"Train the neural network using mini-batch stochastic\n",
    "        gradient descent.  The ``training_data`` is a list of tuples\n",
    "        ``(x, y)`` representing the training inputs and the desired\n",
    "        outputs.  The other non-optional parameters are\n",
    "        self-explanatory.  If ``test_data`` is provided then the\n",
    "        network will be evaluated against the test data after each\n",
    "        epoch, and partial progress printed out.  This is useful for\n",
    "        tracking progress, but slows things down substantially.\"\"\"\n",
    "        if test_data: n_test = len(test_data)\n",
    "        n = len(training_data)\n",
    "\n",
    "        for j in range(epochs):\n",
    "            time1 = time.time()\n",
    "\n",
    "            random.shuffle(training_data)\n",
    "            mini_batches = [\n",
    "                training_data[k:k+mini_batch_size]\n",
    "                for k in range(0, n, mini_batch_size)]\n",
    "            \n",
    "            for mini_batch in mini_batches:\n",
    "                self.update_mini_batch(mini_batch, eta)\n",
    "\n",
    "            time2 = time.time()\n",
    "\n",
    "            if test_data:\n",
    "                print(f\"Epoch {j}: {self.evaluate(test_data)} / {n_test}, took {time2-time1:.2f} seconds\")\n",
    "            else:\n",
    "                print(f\"Epoch {j} complete in {time2-time1:.2f} seconds\")\n",
    "    \n",
    "    def update_mini_batch(self, mini_batch, eta):\n",
    "        \"\"\"Update the network's weights and biases by applying\n",
    "        gradient descent using backpropagation to a single mini batch.\n",
    "        The ``mini_batch`` is a list of tuples ``(x, y)``, and ``eta``\n",
    "        is the learning rate.\"\"\"\n",
    "        # Hold updates to weights and biases\n",
    "        nabla_b = [np.zeros(b.shape) for b in self.biases]\n",
    "        nabla_w = [np.zeros(w.shape) for w in self.weights]\n",
    "\n",
    "        # Compute gradient for every training example and add it to nablas\n",
    "        for x, y in mini_batch:\n",
    "            delta_nabla_b, delta_nabla_w = self.backprop(x, y)\n",
    "            nabla_b = [nb+dnb for nb, dnb in zip(nabla_b, delta_nabla_b)]\n",
    "            nabla_w = [nw+dnw for nw, dnw in zip(nabla_w, delta_nabla_w)]\n",
    "\n",
    "        self.weights = [w-(eta/len(mini_batch))*nw\n",
    "                        for w, nw in zip(self.weights, nabla_w)]\n",
    "        self.biases = [b-(eta/len(mini_batch))*nb # Why 1/len(minibatch)? - Makes it the average of the changes that each example wants to make\n",
    "                       for b, nb in zip(self.biases, nabla_b)]"
   ]
  },
  {
   "cell_type": "code",
   "execution_count": 6,
   "metadata": {},
   "outputs": [
    {
     "data": {
      "text/plain": [
       "array([[0.71614034, 0.7944018 , 0.71613763]])"
      ]
     },
     "execution_count": 6,
     "metadata": {},
     "output_type": "execute_result"
    }
   ],
   "source": [
    "dummy_net = Network([2, 3, 1])\n",
    "dummy_net.feedforward([2,5])\n"
   ]
  },
  {
   "cell_type": "code",
   "execution_count": 4,
   "metadata": {},
   "outputs": [
    {
     "name": "stdout",
     "output_type": "stream",
     "text": [
      "[array([[ 0.78518476, -0.36950739],\n",
      "       [ 1.44081579,  0.08957805],\n",
      "       [ 0.54986944,  0.75476107]]), array([[ 0.87810376,  0.66296562, -0.19915689]])]\n",
      "[array([[-0.24724163],\n",
      "       [ 1.46399988],\n",
      "       [-0.50407173]]), array([[0.28837317]])]\n"
     ]
    }
   ],
   "source": [
    "print(dummy_net.weights)\n",
    "print(dummy_net.biases)"
   ]
  }
 ],
 "metadata": {
  "kernelspec": {
   "display_name": "mnist-nnfs",
   "language": "python",
   "name": "python3"
  },
  "language_info": {
   "codemirror_mode": {
    "name": "ipython",
    "version": 3
   },
   "file_extension": ".py",
   "mimetype": "text/x-python",
   "name": "python",
   "nbconvert_exporter": "python",
   "pygments_lexer": "ipython3",
   "version": "3.10.15"
  }
 },
 "nbformat": 4,
 "nbformat_minor": 2
}
