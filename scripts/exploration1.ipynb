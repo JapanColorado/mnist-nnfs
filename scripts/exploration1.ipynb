{
 "cells": [
  {
   "cell_type": "code",
   "execution_count": 8,
   "metadata": {},
   "outputs": [],
   "source": [
    "# Import libraries\n",
    "import random\n",
    "import time\n",
    "import numpy as np\n",
    "\n",
    "# Helper/miscellaneous functions\n",
    "from src.mnist_loader import load_data_wrapper\n",
    "\n",
    "def sigmoid(z):\n",
    "    '''The sigmoid function.'''\n",
    "    return 1.0/(1.0+np.exp(-z))\n",
    "\n",
    "def dsigmoid(z):\n",
    "    '''The derivative of the sigmoid function.'''\n",
    "    return sigmoid(z)*(1-sigmoid(z))"
   ]
  },
  {
   "cell_type": "code",
   "execution_count": 10,
   "metadata": {},
   "outputs": [],
   "source": [
    "class Network(object): # Inherits from object\n",
    "    \n",
    "    def __init__(self, sizes):\n",
    "        self.num_layers = len(sizes)\n",
    "        self.sizes = sizes\n",
    "        # The biases are added to every layer but the first.\n",
    "        self.biases = [np.random.randn(x, 1) for x in sizes[1:]] \n",
    "        # Weights connect the layers. The first layer's size is the width, the second layer's is the height.\n",
    "        self.weights = [np.random.randn(x,y) for y,x in zip(sizes[:-1], sizes[1:])]\n",
    "\n",
    "    def feedforward(self, a):\n",
    "        '''Return the output of the network if ``a`` is input.'''\n",
    "        for b, w in zip(self.biases, self.weights):\n",
    "            a = sigmoid(np.dot(w, a)+b)\n",
    "        return a"
   ]
  },
  {
   "cell_type": "code",
   "execution_count": 11,
   "metadata": {},
   "outputs": [
    {
     "data": {
      "text/plain": [
       "array([[0.86799368, 0.89793421, 0.87831893]])"
      ]
     },
     "execution_count": 11,
     "metadata": {},
     "output_type": "execute_result"
    }
   ],
   "source": [
    "dummy_net = Network([2, 3, 1])\n",
    "dummy_net.feedforward([2,5])\n"
   ]
  },
  {
   "cell_type": "code",
   "execution_count": 12,
   "metadata": {},
   "outputs": [
    {
     "name": "stdout",
     "output_type": "stream",
     "text": [
      "[array([[-0.10664109, -0.74266379],\n",
      "       [-0.74410839,  0.1373196 ],\n",
      "       [ 0.77185863, -0.72513384]]), array([[0.1871334 , 0.41367726, 0.83710998]])]\n",
      "[array([[-0.27964209],\n",
      "       [ 0.51096677],\n",
      "       [-1.3538927 ]]), array([[1.86318843]])]\n"
     ]
    }
   ],
   "source": [
    "print(dummy_net.weights)\n",
    "print(dummy_net.biases)"
   ]
  }
 ],
 "metadata": {
  "kernelspec": {
   "display_name": "mnist-nnfs",
   "language": "python",
   "name": "python3"
  },
  "language_info": {
   "codemirror_mode": {
    "name": "ipython",
    "version": 3
   },
   "file_extension": ".py",
   "mimetype": "text/x-python",
   "name": "python",
   "nbconvert_exporter": "python",
   "pygments_lexer": "ipython3",
   "version": "3.10.15"
  }
 },
 "nbformat": 4,
 "nbformat_minor": 2
}
